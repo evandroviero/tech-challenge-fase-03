{
 "cells": [
  {
   "cell_type": "code",
   "execution_count": 1,
   "id": "39169ff4",
   "metadata": {},
   "outputs": [],
   "source": [
    "import requests\n",
    "import pandas as pd\n",
    "import sqlalchemy as db"
   ]
  },
  {
   "cell_type": "code",
   "execution_count": 2,
   "id": "ab8ffe5c",
   "metadata": {},
   "outputs": [
    {
     "data": {
      "text/html": [
       "<div>\n",
       "<style scoped>\n",
       "    .dataframe tbody tr th:only-of-type {\n",
       "        vertical-align: middle;\n",
       "    }\n",
       "\n",
       "    .dataframe tbody tr th {\n",
       "        vertical-align: top;\n",
       "    }\n",
       "\n",
       "    .dataframe thead th {\n",
       "        text-align: right;\n",
       "    }\n",
       "</style>\n",
       "<table border=\"1\" class=\"dataframe\">\n",
       "  <thead>\n",
       "    <tr style=\"text-align: right;\">\n",
       "      <th></th>\n",
       "      <th>id</th>\n",
       "      <th>city</th>\n",
       "      <th>area</th>\n",
       "      <th>rooms</th>\n",
       "      <th>bathroom</th>\n",
       "      <th>parking_spaces</th>\n",
       "      <th>floor</th>\n",
       "      <th>animal</th>\n",
       "      <th>furniture</th>\n",
       "      <th>hoa</th>\n",
       "      <th>rent_amount</th>\n",
       "      <th>property_tax</th>\n",
       "      <th>fire_insurance</th>\n",
       "    </tr>\n",
       "  </thead>\n",
       "  <tbody>\n",
       "    <tr>\n",
       "      <th>0</th>\n",
       "      <td>1</td>\n",
       "      <td>São Paulo</td>\n",
       "      <td>70</td>\n",
       "      <td>2</td>\n",
       "      <td>1</td>\n",
       "      <td>1</td>\n",
       "      <td>7</td>\n",
       "      <td>1</td>\n",
       "      <td>1</td>\n",
       "      <td>2065</td>\n",
       "      <td>3300.0</td>\n",
       "      <td>211</td>\n",
       "      <td>42</td>\n",
       "    </tr>\n",
       "    <tr>\n",
       "      <th>1</th>\n",
       "      <td>2</td>\n",
       "      <td>São Paulo</td>\n",
       "      <td>320</td>\n",
       "      <td>4</td>\n",
       "      <td>4</td>\n",
       "      <td>0</td>\n",
       "      <td>20</td>\n",
       "      <td>1</td>\n",
       "      <td>0</td>\n",
       "      <td>1200</td>\n",
       "      <td>4960.0</td>\n",
       "      <td>1750</td>\n",
       "      <td>63</td>\n",
       "    </tr>\n",
       "    <tr>\n",
       "      <th>2</th>\n",
       "      <td>3</td>\n",
       "      <td>Porto Alegre</td>\n",
       "      <td>80</td>\n",
       "      <td>1</td>\n",
       "      <td>1</td>\n",
       "      <td>1</td>\n",
       "      <td>6</td>\n",
       "      <td>1</td>\n",
       "      <td>0</td>\n",
       "      <td>1000</td>\n",
       "      <td>2800.0</td>\n",
       "      <td>0</td>\n",
       "      <td>41</td>\n",
       "    </tr>\n",
       "    <tr>\n",
       "      <th>3</th>\n",
       "      <td>4</td>\n",
       "      <td>Porto Alegre</td>\n",
       "      <td>51</td>\n",
       "      <td>2</td>\n",
       "      <td>1</td>\n",
       "      <td>0</td>\n",
       "      <td>2</td>\n",
       "      <td>1</td>\n",
       "      <td>0</td>\n",
       "      <td>270</td>\n",
       "      <td>1112.0</td>\n",
       "      <td>22</td>\n",
       "      <td>17</td>\n",
       "    </tr>\n",
       "    <tr>\n",
       "      <th>4</th>\n",
       "      <td>5</td>\n",
       "      <td>São Paulo</td>\n",
       "      <td>25</td>\n",
       "      <td>1</td>\n",
       "      <td>1</td>\n",
       "      <td>0</td>\n",
       "      <td>1</td>\n",
       "      <td>0</td>\n",
       "      <td>0</td>\n",
       "      <td>0</td>\n",
       "      <td>800.0</td>\n",
       "      <td>25</td>\n",
       "      <td>11</td>\n",
       "    </tr>\n",
       "  </tbody>\n",
       "</table>\n",
       "</div>"
      ],
      "text/plain": [
       "   id          city  area  rooms  bathroom  parking_spaces  floor  animal  \\\n",
       "0   1     São Paulo    70      2         1               1      7       1   \n",
       "1   2     São Paulo   320      4         4               0     20       1   \n",
       "2   3  Porto Alegre    80      1         1               1      6       1   \n",
       "3   4  Porto Alegre    51      2         1               0      2       1   \n",
       "4   5     São Paulo    25      1         1               0      1       0   \n",
       "\n",
       "   furniture   hoa  rent_amount  property_tax  fire_insurance  \n",
       "0          1  2065       3300.0           211              42  \n",
       "1          0  1200       4960.0          1750              63  \n",
       "2          0  1000       2800.0             0              41  \n",
       "3          0   270       1112.0            22              17  \n",
       "4          0     0        800.0            25              11  "
      ]
     },
     "execution_count": 2,
     "metadata": {},
     "output_type": "execute_result"
    }
   ],
   "source": [
    "DATABASE_URL = \"sqlite:///../db/database.db\"\n",
    "engine = db.create_engine(DATABASE_URL)\n",
    "\n",
    "query = \"SELECT * FROM houses\"\n",
    "\n",
    "df = pd.read_sql(query, con=engine)\n",
    "df.head()"
   ]
  },
  {
   "cell_type": "code",
   "execution_count": 3,
   "id": "e2914f24",
   "metadata": {},
   "outputs": [
    {
     "data": {
      "text/plain": [
       "(10698, 13)"
      ]
     },
     "execution_count": 3,
     "metadata": {},
     "output_type": "execute_result"
    }
   ],
   "source": [
    "df.shape"
   ]
  },
  {
   "cell_type": "code",
   "execution_count": 4,
   "id": "12d51350",
   "metadata": {},
   "outputs": [
    {
     "name": "stdout",
     "output_type": "stream",
     "text": [
      "Status Code: 200\n",
      "Resposta da API:\n",
      "{'predicted_rent': 3293.07}\n"
     ]
    }
   ],
   "source": [
    "base_url = \"http://127.0.0.1:8000\"\n",
    "endpoint = \"/api/v1/housespredict/\"\n",
    "\n",
    "dados_para_enviar = {\n",
    "    \"city\": \"São Paulo\",\n",
    "    \"area\": 70,\t\n",
    "    \"rooms\": 2,\t\n",
    "    \"bathroom\": 1,\t\n",
    "    \"parking_spaces\": 1,\t\n",
    "    \"floor\": 7,\t\n",
    "    \"animal\": 1,\t\n",
    "    \"furniture\": 1,\t\n",
    "    \"hoa\": 2065,\t\n",
    "    \"property_tax\": 211,\t\n",
    "    \"fire_insurance\": 42,\n",
    "}\n",
    "response = requests.post(f\"{base_url}{endpoint}\", json=dados_para_enviar)\n",
    "print(f\"Status Code: {response.status_code}\") \n",
    "print(\"Resposta da API:\")\n",
    "print(response.json())"
   ]
  },
  {
   "cell_type": "code",
   "execution_count": 5,
   "id": "f63c730c",
   "metadata": {},
   "outputs": [
    {
     "data": {
      "text/plain": [
       "(10699, 13)"
      ]
     },
     "execution_count": 5,
     "metadata": {},
     "output_type": "execute_result"
    }
   ],
   "source": [
    "df = pd.read_sql(query, con=engine)\n",
    "df.shape"
   ]
  }
 ],
 "metadata": {
  "kernelspec": {
   "display_name": "Python 3",
   "language": "python",
   "name": "python3"
  },
  "language_info": {
   "codemirror_mode": {
    "name": "ipython",
    "version": 3
   },
   "file_extension": ".py",
   "mimetype": "text/x-python",
   "name": "python",
   "nbconvert_exporter": "python",
   "pygments_lexer": "ipython3",
   "version": "3.13.5"
  }
 },
 "nbformat": 4,
 "nbformat_minor": 5
}
